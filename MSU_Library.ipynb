{
 "cells": [
  {
   "cell_type": "code",
   "execution_count": 47,
   "metadata": {
    "id": "TkZ8kYjDN8dv"
   },
   "outputs": [],
   "source": [
    "import pandas as pd\n",
    "from scipy import stats\n",
    "import re"
   ]
  },
  {
   "cell_type": "code",
   "execution_count": 23,
   "metadata": {
    "scrolled": true
   },
   "outputs": [],
   "source": [
    "data = {\n",
    "    \"INTERACT\": \"Element list Homepage Version 1 - Interact, 5-29-2013.csv\",\n",
    "    \"CONNECT\": \"Element list Homepage Version 2 - Connect, 5-29-2013.csv\",\n",
    "    \"LEARN\": \"Element list Homepage Version 3 - Learn, 5-29-2013.csv\",\n",
    "    \"HELP\": \"Element list Homepage Version 4 - Help, 5-29-2013.csv\",\n",
    "    \"SERVICES\": \"Element list Homepage Version 5 - Services, 5-29-2013.csv\"\n",
    "}\n",
    "df_list = [pd.read_csv(\"./data/\" + file).assign(version = version) for version, file in data.items()]\n",
    "df = pd.concat(df_list)"
   ]
  },
  {
   "cell_type": "code",
   "execution_count": 24,
   "metadata": {},
   "outputs": [
    {
     "data": {
      "text/html": [
       "<div>\n",
       "<style scoped>\n",
       "    .dataframe tbody tr th:only-of-type {\n",
       "        vertical-align: middle;\n",
       "    }\n",
       "\n",
       "    .dataframe tbody tr th {\n",
       "        vertical-align: top;\n",
       "    }\n",
       "\n",
       "    .dataframe thead th {\n",
       "        text-align: right;\n",
       "    }\n",
       "</style>\n",
       "<table border=\"1\" class=\"dataframe\">\n",
       "  <thead>\n",
       "    <tr style=\"text-align: right;\">\n",
       "      <th></th>\n",
       "      <th>Element ID</th>\n",
       "      <th>Tag name</th>\n",
       "      <th>Name</th>\n",
       "      <th>No. clicks</th>\n",
       "      <th>Visible?</th>\n",
       "      <th>Snapshot information</th>\n",
       "      <th>version</th>\n",
       "    </tr>\n",
       "  </thead>\n",
       "  <tbody>\n",
       "    <tr>\n",
       "      <th>0</th>\n",
       "      <td>128</td>\n",
       "      <td>area</td>\n",
       "      <td>Montana State University - Home</td>\n",
       "      <td>1291</td>\n",
       "      <td>False</td>\n",
       "      <td>Homepage Version 1 - Interact   •   http://www...</td>\n",
       "      <td>INTERACT</td>\n",
       "    </tr>\n",
       "    <tr>\n",
       "      <th>1</th>\n",
       "      <td>69</td>\n",
       "      <td>a</td>\n",
       "      <td>FIND</td>\n",
       "      <td>842</td>\n",
       "      <td>True</td>\n",
       "      <td>created 5-29-2013   •   20 days 4 hours 21 min...</td>\n",
       "      <td>INTERACT</td>\n",
       "    </tr>\n",
       "    <tr>\n",
       "      <th>2</th>\n",
       "      <td>61</td>\n",
       "      <td>input</td>\n",
       "      <td>s.q</td>\n",
       "      <td>508</td>\n",
       "      <td>True</td>\n",
       "      <td>NaN</td>\n",
       "      <td>INTERACT</td>\n",
       "    </tr>\n",
       "    <tr>\n",
       "      <th>3</th>\n",
       "      <td>67</td>\n",
       "      <td>a</td>\n",
       "      <td>lib.montana.edu/find/</td>\n",
       "      <td>166</td>\n",
       "      <td>True</td>\n",
       "      <td>NaN</td>\n",
       "      <td>INTERACT</td>\n",
       "    </tr>\n",
       "    <tr>\n",
       "      <th>4</th>\n",
       "      <td>78</td>\n",
       "      <td>a</td>\n",
       "      <td>REQUEST</td>\n",
       "      <td>151</td>\n",
       "      <td>True</td>\n",
       "      <td>NaN</td>\n",
       "      <td>INTERACT</td>\n",
       "    </tr>\n",
       "    <tr>\n",
       "      <th>...</th>\n",
       "      <td>...</td>\n",
       "      <td>...</td>\n",
       "      <td>...</td>\n",
       "      <td>...</td>\n",
       "      <td>...</td>\n",
       "      <td>...</td>\n",
       "      <td>...</td>\n",
       "    </tr>\n",
       "    <tr>\n",
       "      <th>48</th>\n",
       "      <td>116</td>\n",
       "      <td>div</td>\n",
       "      <td>© MSU About MSU Library Accessibility Contact ...</td>\n",
       "      <td>1</td>\n",
       "      <td>True</td>\n",
       "      <td>NaN</td>\n",
       "      <td>SERVICES</td>\n",
       "    </tr>\n",
       "    <tr>\n",
       "      <th>49</th>\n",
       "      <td>130</td>\n",
       "      <td>div</td>\n",
       "      <td>lib.montana.edu/interact/</td>\n",
       "      <td>1</td>\n",
       "      <td>False</td>\n",
       "      <td>NaN</td>\n",
       "      <td>SERVICES</td>\n",
       "    </tr>\n",
       "    <tr>\n",
       "      <th>50</th>\n",
       "      <td>131</td>\n",
       "      <td>center</td>\n",
       "      <td>lib.montana.edu/hours/</td>\n",
       "      <td>1</td>\n",
       "      <td>False</td>\n",
       "      <td>NaN</td>\n",
       "      <td>SERVICES</td>\n",
       "    </tr>\n",
       "    <tr>\n",
       "      <th>51</th>\n",
       "      <td>132</td>\n",
       "      <td>font</td>\n",
       "      <td>지저귀다</td>\n",
       "      <td>1</td>\n",
       "      <td>False</td>\n",
       "      <td>NaN</td>\n",
       "      <td>SERVICES</td>\n",
       "    </tr>\n",
       "    <tr>\n",
       "      <th>52</th>\n",
       "      <td>133</td>\n",
       "      <td>a</td>\n",
       "      <td>6/18 Excel 2010: Formulas and Functions [webinar]</td>\n",
       "      <td>1</td>\n",
       "      <td>False</td>\n",
       "      <td>NaN</td>\n",
       "      <td>SERVICES</td>\n",
       "    </tr>\n",
       "  </tbody>\n",
       "</table>\n",
       "<p>299 rows × 7 columns</p>\n",
       "</div>"
      ],
      "text/plain": [
       "    Element ID Tag name                                               Name  \\\n",
       "0          128     area                    Montana State University - Home   \n",
       "1           69        a                                               FIND   \n",
       "2           61    input                                                s.q   \n",
       "3           67        a                              lib.montana.edu/find/   \n",
       "4           78        a                                            REQUEST   \n",
       "..         ...      ...                                                ...   \n",
       "48         116      div  © MSU About MSU Library Accessibility Contact ...   \n",
       "49         130      div                          lib.montana.edu/interact/   \n",
       "50         131   center                             lib.montana.edu/hours/   \n",
       "51         132     font                                               지저귀다   \n",
       "52         133        a  6/18 Excel 2010: Formulas and Functions [webinar]   \n",
       "\n",
       "    No. clicks  Visible?                               Snapshot information  \\\n",
       "0         1291     False  Homepage Version 1 - Interact   •   http://www...   \n",
       "1          842      True  created 5-29-2013   •   20 days 4 hours 21 min...   \n",
       "2          508      True                                                NaN   \n",
       "3          166      True                                                NaN   \n",
       "4          151      True                                                NaN   \n",
       "..         ...       ...                                                ...   \n",
       "48           1      True                                                NaN   \n",
       "49           1     False                                                NaN   \n",
       "50           1     False                                                NaN   \n",
       "51           1     False                                                NaN   \n",
       "52           1     False                                                NaN   \n",
       "\n",
       "     version  \n",
       "0   INTERACT  \n",
       "1   INTERACT  \n",
       "2   INTERACT  \n",
       "3   INTERACT  \n",
       "4   INTERACT  \n",
       "..       ...  \n",
       "48  SERVICES  \n",
       "49  SERVICES  \n",
       "50  SERVICES  \n",
       "51  SERVICES  \n",
       "52  SERVICES  \n",
       "\n",
       "[299 rows x 7 columns]"
      ]
     },
     "execution_count": 24,
     "metadata": {},
     "output_type": "execute_result"
    }
   ],
   "source": [
    "df"
   ]
  },
  {
   "cell_type": "code",
   "execution_count": 25,
   "metadata": {
    "colab": {
     "base_uri": "https://localhost:8080/",
     "height": 206
    },
    "id": "FAqLM6Z_XjCQ",
    "outputId": "9ed43157-db0f-40e0-a9eb-8da2f7e30e8a"
   },
   "outputs": [
    {
     "name": "stdout",
     "output_type": "stream",
     "text": [
      "<class 'pandas.core.frame.DataFrame'>\n",
      "Index: 299 entries, 0 to 52\n",
      "Data columns (total 7 columns):\n",
      " #   Column                Non-Null Count  Dtype \n",
      "---  ------                --------------  ----- \n",
      " 0   Element ID            299 non-null    int64 \n",
      " 1   Tag name              299 non-null    object\n",
      " 2   Name                  299 non-null    object\n",
      " 3   No. clicks            299 non-null    int64 \n",
      " 4   Visible?              299 non-null    bool  \n",
      " 5   Snapshot information  10 non-null     object\n",
      " 6   version               299 non-null    object\n",
      "dtypes: bool(1), int64(2), object(4)\n",
      "memory usage: 16.6+ KB\n"
     ]
    }
   ],
   "source": [
    "df.info()"
   ]
  },
  {
   "cell_type": "code",
   "execution_count": 96,
   "metadata": {},
   "outputs": [
    {
     "name": "stdout",
     "output_type": "stream",
     "text": [
      "INTERACT: created 5-29-2013   •   20 days 4 hours 21 mins   •   10283 visits, 3714 clicks\n",
      "CONNECT: created 5-29-2013   •   20 days 7 hours 34 mins   •   2742 visits, 1587 clicks\n",
      "LEARN: created 5-29-2013   •   20 days 12 hours 21 mins   •   2747 visits, 1652 clicks\n",
      "HELP: created 5-29-2013   •   20 days 4 hours 59 mins   •   3180 visits, 1717 clicks\n",
      "SERVICES: created 5-29-2013   •   20 days 4 hours 59 mins   •   2064 visits, 1348 clicks\n"
     ]
    }
   ],
   "source": [
    "dict = {}\n",
    "for key in data:\n",
    "    s = df[\"Snapshot information\"].loc[df[\"version\"] == key][1]\n",
    "    print(key + \": \" + s)\n",
    "    visits = int(re.search(\"(\\d+) visits\",s).group(1))\n",
    "    clicks = df.query(f'Name == \"{key}\"').get(\"No. clicks\").values[0]\n",
    "    no_clicks =  visits - clicks\n",
    "    CTR = clicks / visits\n",
    "    dict[key] = {\"visits\" : visits, \"clicks\" : clicks, \"no_clicks\" : no_clicks, \"CTR\" : CTR}"
   ]
  },
  {
   "cell_type": "code",
   "execution_count": 97,
   "metadata": {},
   "outputs": [
    {
     "data": {
      "text/html": [
       "<div>\n",
       "<style scoped>\n",
       "    .dataframe tbody tr th:only-of-type {\n",
       "        vertical-align: middle;\n",
       "    }\n",
       "\n",
       "    .dataframe tbody tr th {\n",
       "        vertical-align: top;\n",
       "    }\n",
       "\n",
       "    .dataframe thead th {\n",
       "        text-align: right;\n",
       "    }\n",
       "</style>\n",
       "<table border=\"1\" class=\"dataframe\">\n",
       "  <thead>\n",
       "    <tr style=\"text-align: right;\">\n",
       "      <th></th>\n",
       "      <th>INTERACT</th>\n",
       "      <th>CONNECT</th>\n",
       "      <th>LEARN</th>\n",
       "      <th>HELP</th>\n",
       "      <th>SERVICES</th>\n",
       "    </tr>\n",
       "  </thead>\n",
       "  <tbody>\n",
       "    <tr>\n",
       "      <th>visits</th>\n",
       "      <td>10283.000000</td>\n",
       "      <td>2742.000000</td>\n",
       "      <td>2747.000000</td>\n",
       "      <td>3180.00000</td>\n",
       "      <td>2064.000000</td>\n",
       "    </tr>\n",
       "    <tr>\n",
       "      <th>clicks</th>\n",
       "      <td>42.000000</td>\n",
       "      <td>53.000000</td>\n",
       "      <td>21.000000</td>\n",
       "      <td>38.00000</td>\n",
       "      <td>45.000000</td>\n",
       "    </tr>\n",
       "    <tr>\n",
       "      <th>no_clicks</th>\n",
       "      <td>10241.000000</td>\n",
       "      <td>2689.000000</td>\n",
       "      <td>2726.000000</td>\n",
       "      <td>3142.00000</td>\n",
       "      <td>2019.000000</td>\n",
       "    </tr>\n",
       "    <tr>\n",
       "      <th>CTR</th>\n",
       "      <td>0.004084</td>\n",
       "      <td>0.019329</td>\n",
       "      <td>0.007645</td>\n",
       "      <td>0.01195</td>\n",
       "      <td>0.021802</td>\n",
       "    </tr>\n",
       "  </tbody>\n",
       "</table>\n",
       "</div>"
      ],
      "text/plain": [
       "               INTERACT      CONNECT        LEARN        HELP     SERVICES\n",
       "visits     10283.000000  2742.000000  2747.000000  3180.00000  2064.000000\n",
       "clicks        42.000000    53.000000    21.000000    38.00000    45.000000\n",
       "no_clicks  10241.000000  2689.000000  2726.000000  3142.00000  2019.000000\n",
       "CTR            0.004084     0.019329     0.007645     0.01195     0.021802"
      ]
     },
     "execution_count": 97,
     "metadata": {},
     "output_type": "execute_result"
    }
   ],
   "source": [
    "summary_df = pd.DataFrame.from_dict(dict)\n",
    "summary_df"
   ]
  },
  {
   "cell_type": "code",
   "execution_count": 104,
   "metadata": {
    "colab": {
     "base_uri": "https://localhost:8080/",
     "height": 492
    },
    "id": "kRMUMfQmVW0r",
    "outputId": "08878c8e-64d7-4704-a7a2-4410cdcfe83d"
   },
   "outputs": [
    {
     "data": {
      "text/plain": [
       "<Axes: >"
      ]
     },
     "execution_count": 104,
     "metadata": {},
     "output_type": "execute_result"
    },
    {
     "data": {
      "image/png": "[encoded data removed]",
      "text/plain": [
       "<Figure size 640x480 with 1 Axes>"
      ]
     },
     "metadata": {},
     "output_type": "display_data"
    }
   ],
   "source": [
    "summary_df.loc[\"CTR\"].plot(kind=\"bar\")"
   ]
  },
  {
   "cell_type": "code",
   "execution_count": 118,
   "metadata": {
    "colab": {
     "base_uri": "https://localhost:8080/"
    },
    "id": "hnzOKStwepO_",
    "outputId": "d548140c-c766-4a9e-c28e-d7d4c8741e41"
   },
   "outputs": [
    {
     "name": "stdout",
     "output_type": "stream",
     "text": [
      "4.8523343010938377e-20\n",
      "X2(4, n = 21016.0) = 96.743, p < 0.001\n"
     ]
    }
   ],
   "source": [
    "chisq, pvalue, df, expected = stats.chi2_contingency(summary_df.loc[[\"clicks\",\"no_clicks\"]])\n",
    "n=summary_df.loc[[\"clicks\",\"no_clicks\"]].sum().sum()\n",
    "print(pvalue)\n",
    "print(f\"X2({df}, n = {n}) = {round(chisq,3)}, p < 0.001\")"
   ]
  },
  {
   "cell_type": "code",
   "execution_count": 121,
   "metadata": {
    "colab": {
     "base_uri": "https://localhost:8080/",
     "height": 175
    },
    "id": "_hvvlYiUgwFs",
    "outputId": "f97980ee-0dfe-4ae1-c124-c3d4b4c90e3e"
   },
   "outputs": [
    {
     "data": {
      "text/html": [
       "<div>\n",
       "<style scoped>\n",
       "    .dataframe tbody tr th:only-of-type {\n",
       "        vertical-align: middle;\n",
       "    }\n",
       "\n",
       "    .dataframe tbody tr th {\n",
       "        vertical-align: top;\n",
       "    }\n",
       "\n",
       "    .dataframe thead th {\n",
       "        text-align: right;\n",
       "    }\n",
       "</style>\n",
       "<table border=\"1\" class=\"dataframe\">\n",
       "  <thead>\n",
       "    <tr style=\"text-align: right;\">\n",
       "      <th></th>\n",
       "      <th>pair</th>\n",
       "      <th>X2</th>\n",
       "      <th>n</th>\n",
       "      <th>df</th>\n",
       "      <th>p</th>\n",
       "      <th>p_adj</th>\n",
       "    </tr>\n",
       "  </thead>\n",
       "  <tbody>\n",
       "    <tr>\n",
       "      <th>0</th>\n",
       "      <td>INTERACT vs. SERVICES</td>\n",
       "      <td>74.615427</td>\n",
       "      <td>12347.0</td>\n",
       "      <td>1</td>\n",
       "      <td>0.0</td>\n",
       "      <td>0.0</td>\n",
       "    </tr>\n",
       "    <tr>\n",
       "      <th>1</th>\n",
       "      <td>CONNECT vs. SERVICES</td>\n",
       "      <td>0.247449</td>\n",
       "      <td>4806.0</td>\n",
       "      <td>1</td>\n",
       "      <td>0.618877</td>\n",
       "      <td>1</td>\n",
       "    </tr>\n",
       "    <tr>\n",
       "      <th>2</th>\n",
       "      <td>LEARN vs. SERVICES</td>\n",
       "      <td>16.427709</td>\n",
       "      <td>4811.0</td>\n",
       "      <td>1</td>\n",
       "      <td>0.000051</td>\n",
       "      <td>0.000202</td>\n",
       "    </tr>\n",
       "    <tr>\n",
       "      <th>3</th>\n",
       "      <td>HELP vs. SERVICES</td>\n",
       "      <td>7.180282</td>\n",
       "      <td>5244.0</td>\n",
       "      <td>1</td>\n",
       "      <td>0.007371</td>\n",
       "      <td>0.029484</td>\n",
       "    </tr>\n",
       "  </tbody>\n",
       "</table>\n",
       "</div>"
      ],
      "text/plain": [
       "                    pair         X2        n df         p     p_adj\n",
       "0  INTERACT vs. SERVICES  74.615427  12347.0  1       0.0       0.0\n",
       "1   CONNECT vs. SERVICES   0.247449   4806.0  1  0.618877         1\n",
       "2     LEARN vs. SERVICES  16.427709   4811.0  1  0.000051  0.000202\n",
       "3      HELP vs. SERVICES   7.180282   5244.0  1  0.007371  0.029484"
      ]
     },
     "execution_count": 121,
     "metadata": {},
     "output_type": "execute_result"
    }
   ],
   "source": [
    "def bonferroni(p_values):\n",
    "  p_adj = p_values * len(p_values)\n",
    "  p_adj[p_adj > 1] = 1\n",
    "  return p_adj\n",
    "\n",
    "post_hoc_df = pd.DataFrame(index = range(0,4), columns = [\"pair\",\"X2\",\"n\",\"df\",\"p\",\"p_adj\"])\n",
    "for i in range(0,4):\n",
    "  pair_cont_df = summary_df.loc[[\"clicks\",\"no_clicks\"]].iloc[:,[i,4]]\n",
    "  post_hoc_df.loc[i,[\"pair\"]] = summary_df.loc[[\"clicks\",\"no_clicks\"]].columns[i] + \" vs. SERVICES\"\n",
    "  post_hoc_df.loc[i,[\"n\"]] = pair_cont_df.sum().sum()\n",
    "  post_hoc_df.loc[i,[\"X2\",\"p\",\"df\"]] = stats.chi2_contingency(pair_cont_df)[0:3]\n",
    "\n",
    "post_hoc_df[\"p_adj\"] = bonferroni(post_hoc_df[\"p\"])\n",
    "post_hoc_df"
   ]
  },
  {
   "cell_type": "code",
   "execution_count": null,
   "metadata": {},
   "outputs": [],
   "source": []
  }
 ],
 "metadata": {
  "colab": {
   "provenance": []
  },
  "kernelspec": {
   "display_name": "Python 3 (ipykernel)",
   "language": "python",
   "name": "python3"
  },
  "language_info": {
   "codemirror_mode": {
    "name": "ipython",
    "version": 3
   },
   "file_extension": ".py",
   "mimetype": "text/x-python",
   "name": "python",
   "nbconvert_exporter": "python",
   "pygments_lexer": "ipython3",
   "version": "3.10.14"
  }
 },
 "nbformat": 4,
 "nbformat_minor": 4
}
